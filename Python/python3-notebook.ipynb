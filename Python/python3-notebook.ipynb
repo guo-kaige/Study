{
 "cells": [
  {
   "cell_type": "code",
   "execution_count": 1,
   "id": "3f59c3f3-c7e9-4241-b73e-fbebbff5d0af",
   "metadata": {},
   "outputs": [
    {
     "data": {
      "text/plain": [
       "<function __main__.outer.<locals>.inner(c)>"
      ]
     },
     "execution_count": 1,
     "metadata": {},
     "output_type": "execute_result"
    }
   ],
   "source": [
    "#      闭包  / closure,    一个函数返回另一个函数\n",
    "def outer(a, b):\n",
    "    def inner(c):\n",
    "        return c * (a + b)\n",
    "    return inner\n",
    "func = outer(1, 1)\n",
    "func"
   ]
  },
  {
   "cell_type": "code",
   "execution_count": 2,
   "id": "a3fbd0c1-76f9-4171-a080-c4aac3e26b38",
   "metadata": {},
   "outputs": [
    {
     "data": {
      "text/plain": [
       "4"
      ]
     },
     "execution_count": 2,
     "metadata": {},
     "output_type": "execute_result"
    }
   ],
   "source": [
    "func(2)"
   ]
  },
  {
   "cell_type": "code",
   "execution_count": 4,
   "id": "73b45cb7-3dda-4000-ab4b-c56ed05fa2ef",
   "metadata": {},
   "outputs": [
    {
     "name": "stdout",
     "output_type": "stream",
     "text": [
      "add...\n"
     ]
    },
    {
     "data": {
      "text/plain": [
       "3"
      ]
     },
     "execution_count": 4,
     "metadata": {},
     "output_type": "execute_result"
    }
   ],
   "source": [
    "def execute(func):\n",
    "    def inner(*args, **kwargs):\n",
    "        result = func(*args, **kwargs)\n",
    "        return result\n",
    "    return inner\n",
    "def add(a, b):\n",
    "    print('add...')\n",
    "    return a + b\n",
    "def say_hello(name, *, formal=True):\n",
    "    print('say hello...')\n",
    "    if formal:\n",
    "        return f'Pleased to meet you, {name}!'\n",
    "    else :\n",
    "        return f'Hi, {name}!'\n",
    "execute_add = execute(add)\n",
    "execute_greet = execute(say_hello)\n",
    "\n",
    "execute_add(1, 2)"
   ]
  },
  {
   "cell_type": "code",
   "execution_count": 5,
   "id": "5a946064-e72d-4e58-a1ea-bab44e087cc7",
   "metadata": {},
   "outputs": [
    {
     "name": "stdout",
     "output_type": "stream",
     "text": [
      "say hello...\n"
     ]
    },
    {
     "data": {
      "text/plain": [
       "'Pleased to meet you, John!'"
      ]
     },
     "execution_count": 5,
     "metadata": {},
     "output_type": "execute_result"
    }
   ],
   "source": [
    "execute_greet('John')"
   ]
  },
  {
   "cell_type": "code",
   "execution_count": 6,
   "id": "20c2a61e-8478-4bc4-bfb5-869a7b96fce5",
   "metadata": {},
   "outputs": [
    {
     "name": "stdout",
     "output_type": "stream",
     "text": [
      "say hello...\n"
     ]
    },
    {
     "data": {
      "text/plain": [
       "'Hi, Mihe!'"
      ]
     },
     "execution_count": 6,
     "metadata": {},
     "output_type": "execute_result"
    }
   ],
   "source": [
    "execute_greet('Mihe', formal=False)"
   ]
  },
  {
   "cell_type": "code",
   "execution_count": 1,
   "id": "3e20f862-4592-4e1a-8828-cdf77f775add",
   "metadata": {},
   "outputs": [
    {
     "data": {
      "text/plain": [
       "<filter at 0x7f879023f910>"
      ]
     },
     "execution_count": 1,
     "metadata": {},
     "output_type": "execute_result"
    }
   ],
   "source": [
    "l = [i for i in range(100)]\n",
    "even_l = filter(lambda x: x % 2 == 0, l)\n",
    "even_l"
   ]
  },
  {
   "cell_type": "code",
   "execution_count": 2,
   "id": "f75ae433-23fc-42f9-91dc-36bacd4ffd53",
   "metadata": {},
   "outputs": [
    {
     "data": {
      "text/plain": [
       "[0,\n",
       " 2,\n",
       " 4,\n",
       " 6,\n",
       " 8,\n",
       " 10,\n",
       " 12,\n",
       " 14,\n",
       " 16,\n",
       " 18,\n",
       " 20,\n",
       " 22,\n",
       " 24,\n",
       " 26,\n",
       " 28,\n",
       " 30,\n",
       " 32,\n",
       " 34,\n",
       " 36,\n",
       " 38,\n",
       " 40,\n",
       " 42,\n",
       " 44,\n",
       " 46,\n",
       " 48,\n",
       " 50,\n",
       " 52,\n",
       " 54,\n",
       " 56,\n",
       " 58,\n",
       " 60,\n",
       " 62,\n",
       " 64,\n",
       " 66,\n",
       " 68,\n",
       " 70,\n",
       " 72,\n",
       " 74,\n",
       " 76,\n",
       " 78,\n",
       " 80,\n",
       " 82,\n",
       " 84,\n",
       " 86,\n",
       " 88,\n",
       " 90,\n",
       " 92,\n",
       " 94,\n",
       " 96,\n",
       " 98]"
      ]
     },
     "execution_count": 2,
     "metadata": {},
     "output_type": "execute_result"
    }
   ],
   "source": [
    "list(even_l)"
   ]
  },
  {
   "cell_type": "code",
   "execution_count": 3,
   "id": "26939b0e-67ac-49fa-9494-ad9e55879728",
   "metadata": {},
   "outputs": [
    {
     "data": {
      "text/plain": [
       "<filter at 0x7f879023f910>"
      ]
     },
     "execution_count": 3,
     "metadata": {},
     "output_type": "execute_result"
    }
   ],
   "source": [
    "even_l"
   ]
  },
  {
   "cell_type": "code",
   "execution_count": 4,
   "id": "83c4778d-ec0e-4fd8-9667-e9fc6a41e221",
   "metadata": {},
   "outputs": [
    {
     "data": {
      "text/plain": [
       "[]"
      ]
     },
     "execution_count": 4,
     "metadata": {},
     "output_type": "execute_result"
    }
   ],
   "source": [
    "list(even_l)"
   ]
  },
  {
   "cell_type": "code",
   "execution_count": 5,
   "id": "cc525dbf-0cb2-4b33-aa45-c9cb1f547548",
   "metadata": {},
   "outputs": [
    {
     "data": {
      "text/plain": [
       "\u001b[0;31mSignature:\u001b[0m \u001b[0msorted\u001b[0m\u001b[0;34m(\u001b[0m\u001b[0miterable\u001b[0m\u001b[0;34m,\u001b[0m \u001b[0;34m/\u001b[0m\u001b[0;34m,\u001b[0m \u001b[0;34m*\u001b[0m\u001b[0;34m,\u001b[0m \u001b[0mkey\u001b[0m\u001b[0;34m=\u001b[0m\u001b[0;32mNone\u001b[0m\u001b[0;34m,\u001b[0m \u001b[0mreverse\u001b[0m\u001b[0;34m=\u001b[0m\u001b[0;32mFalse\u001b[0m\u001b[0;34m)\u001b[0m\u001b[0;34m\u001b[0m\u001b[0;34m\u001b[0m\u001b[0m\n",
       "\u001b[0;31mDocstring:\u001b[0m\n",
       "Return a new list containing all items from the iterable in ascending order.\n",
       "\n",
       "A custom key function can be supplied to customize the sort order, and the\n",
       "reverse flag can be set to request the result in descending order.\n",
       "\u001b[0;31mType:\u001b[0m      builtin_function_or_method"
      ]
     },
     "metadata": {},
     "output_type": "display_data"
    }
   ],
   "source": [
    "?sorted"
   ]
  },
  {
   "cell_type": "code",
   "execution_count": 20,
   "id": "cc6f71e7-7748-4eea-a68a-7a1d3601f023",
   "metadata": {},
   "outputs": [],
   "source": [
    "l = [1, -2, 3, -4, 5, -6]"
   ]
  },
  {
   "cell_type": "code",
   "execution_count": 21,
   "id": "dffe1849-3445-42f8-8d55-dde1c683e859",
   "metadata": {},
   "outputs": [
    {
     "data": {
      "text/plain": [
       "[1, -2, 3, -4, 5, -6]"
      ]
     },
     "execution_count": 21,
     "metadata": {},
     "output_type": "execute_result"
    }
   ],
   "source": [
    "sorted(l, key=abs)"
   ]
  },
  {
   "cell_type": "code",
   "execution_count": 22,
   "id": "e3fe9fd8-7474-4adc-a718-46187c7cfdec",
   "metadata": {},
   "outputs": [
    {
     "data": {
      "text/plain": [
       "[1, -2, 3, -4, 5, -6]"
      ]
     },
     "execution_count": 22,
     "metadata": {},
     "output_type": "execute_result"
    }
   ],
   "source": [
    "l"
   ]
  },
  {
   "cell_type": "code",
   "execution_count": 23,
   "id": "9ea38871-7d61-44dd-acad-0f587ca223fb",
   "metadata": {},
   "outputs": [
    {
     "data": {
      "text/plain": [
       "\u001b[0;31mDocstring:\u001b[0m\n",
       "min(iterable, *[, default=obj, key=func]) -> value\n",
       "min(arg1, arg2, *args, *[, key=func]) -> value\n",
       "\n",
       "With a single iterable argument, return its smallest item. The\n",
       "default keyword-only argument specifies an object to return if\n",
       "the provided iterable is empty.\n",
       "With two or more arguments, return the smallest argument.\n",
       "\u001b[0;31mType:\u001b[0m      builtin_function_or_method"
      ]
     },
     "metadata": {},
     "output_type": "display_data"
    }
   ],
   "source": [
    "?min"
   ]
  },
  {
   "cell_type": "code",
   "execution_count": 26,
   "id": "201f45f3-a44b-4563-84f8-aa145df7bfcc",
   "metadata": {},
   "outputs": [
    {
     "data": {
      "text/plain": [
       "<function __main__.log.<locals>.inner(*args, **kwargs)>"
      ]
     },
     "execution_count": 26,
     "metadata": {},
     "output_type": "execute_result"
    }
   ],
   "source": [
    "#     decorators\n",
    "def log(func):\n",
    "    def inner(*args, **kwargs):\n",
    "        result = func(*args, **kwargs)\n",
    "        print(f'{func.__name__} called... result={result}')\n",
    "        return result\n",
    "    return inner\n",
    "@log\n",
    "def add(a, b, c):\n",
    "    return a+b+c\n",
    "add"
   ]
  },
  {
   "cell_type": "code",
   "execution_count": 27,
   "id": "2bb3bf51-3faf-415f-9059-9921e3754b8f",
   "metadata": {},
   "outputs": [
    {
     "name": "stdout",
     "output_type": "stream",
     "text": [
      "add called... result=6\n"
     ]
    },
    {
     "data": {
      "text/plain": [
       "6"
      ]
     },
     "execution_count": 27,
     "metadata": {},
     "output_type": "execute_result"
    }
   ],
   "source": [
    "add(1, 2, 3)"
   ]
  },
  {
   "cell_type": "code",
   "execution_count": 28,
   "id": "7dc639f5-ec20-4a67-a066-77cbc07834ce",
   "metadata": {},
   "outputs": [
    {
     "name": "stderr",
     "output_type": "stream",
     "text": [
      "2024-07-18 22:14:38,618 DEBUG debug message\n"
     ]
    }
   ],
   "source": [
    "import logging\n",
    "logging.basicConfig(\n",
    "    format='%(asctime)s %(levelname)s %(message)s',\n",
    "    level=logging.DEBUG\n",
    ")\n",
    "logger = logging.getLogger('custom log')\n",
    "logger.debug('debug message')"
   ]
  },
  {
   "cell_type": "code",
   "execution_count": 29,
   "id": "a92c4727-7a9e-474b-82c5-0e1521d209c9",
   "metadata": {},
   "outputs": [
    {
     "name": "stderr",
     "output_type": "stream",
     "text": [
      "2024-07-18 22:15:06,036 ERROR error message\n"
     ]
    }
   ],
   "source": [
    "logger.error('error message')"
   ]
  },
  {
   "cell_type": "code",
   "execution_count": 33,
   "id": "d627e859-a41f-44cd-bef4-699692b6ecd0",
   "metadata": {},
   "outputs": [],
   "source": [
    "#     LRU cache\n",
    "\n",
    "def cache(func):\n",
    "    print('initializing cache...')\n",
    "    cache_dict = {}\n",
    "    def inner(*args):\n",
    "        if args in cache_dict:\n",
    "            result = cache_dict[args]\n",
    "        else:\n",
    "            result = func(*args)\n",
    "            cache_dict[args] = result\n",
    "        return result\n",
    "    return inner"
   ]
  },
  {
   "cell_type": "code",
   "execution_count": 34,
   "id": "61e21b96-4d0a-4519-903e-69b7306866a5",
   "metadata": {},
   "outputs": [
    {
     "name": "stdout",
     "output_type": "stream",
     "text": [
      "initializing cache...\n"
     ]
    }
   ],
   "source": [
    "@cache\n",
    "def add(a, b):\n",
    "    return a + b"
   ]
  },
  {
   "cell_type": "code",
   "execution_count": 35,
   "id": "ab5615f4-85b0-4691-af56-d282f10d3296",
   "metadata": {},
   "outputs": [
    {
     "name": "stdout",
     "output_type": "stream",
     "text": [
      "initializing cache...\n"
     ]
    }
   ],
   "source": [
    "@cache\n",
    "def mult(a, b):\n",
    "    return a * b"
   ]
  },
  {
   "cell_type": "code",
   "execution_count": 36,
   "id": "c42264c8-16de-40a9-9981-c3d0eb832970",
   "metadata": {},
   "outputs": [],
   "source": [
    "from functools import lru_cache"
   ]
  },
  {
   "cell_type": "code",
   "execution_count": 37,
   "id": "5c8d92c8-ba58-429a-8b3d-d4bc29f1e001",
   "metadata": {},
   "outputs": [],
   "source": [
    "@lru_cache(maxsize=2)\n",
    "def add(a, b):\n",
    "    print('add call...')\n",
    "    return a + b"
   ]
  },
  {
   "cell_type": "code",
   "execution_count": 38,
   "id": "5d4f90d7-1d4a-4e43-96f9-93286392651f",
   "metadata": {},
   "outputs": [
    {
     "name": "stdout",
     "output_type": "stream",
     "text": [
      "add call...\n"
     ]
    },
    {
     "data": {
      "text/plain": [
       "7"
      ]
     },
     "execution_count": 38,
     "metadata": {},
     "output_type": "execute_result"
    }
   ],
   "source": [
    "add(3, 4)"
   ]
  },
  {
   "cell_type": "code",
   "execution_count": 39,
   "id": "1f377e1d-5a5e-4206-9739-621ff06ad00e",
   "metadata": {},
   "outputs": [
    {
     "data": {
      "text/plain": [
       "7"
      ]
     },
     "execution_count": 39,
     "metadata": {},
     "output_type": "execute_result"
    }
   ],
   "source": [
    "add(3, 4)"
   ]
  },
  {
   "cell_type": "code",
   "execution_count": 40,
   "id": "d77f265e-77e8-4d45-acdb-f5c0b1e76b56",
   "metadata": {},
   "outputs": [
    {
     "name": "stdout",
     "output_type": "stream",
     "text": [
      "add call...\n"
     ]
    },
    {
     "data": {
      "text/plain": [
       "3"
      ]
     },
     "execution_count": 40,
     "metadata": {},
     "output_type": "execute_result"
    }
   ],
   "source": [
    "add(1, 2)"
   ]
  },
  {
   "cell_type": "code",
   "execution_count": 41,
   "id": "879d643a-cfed-4b05-aa16-f1f371ffcc74",
   "metadata": {},
   "outputs": [
    {
     "name": "stdout",
     "output_type": "stream",
     "text": [
      "add call...\n"
     ]
    },
    {
     "data": {
      "text/plain": [
       "5"
      ]
     },
     "execution_count": 41,
     "metadata": {},
     "output_type": "execute_result"
    }
   ],
   "source": [
    "add(2, 3)"
   ]
  },
  {
   "cell_type": "code",
   "execution_count": 42,
   "id": "2c2c4ddd-1be6-4c7d-9786-0b68506642f9",
   "metadata": {},
   "outputs": [
    {
     "name": "stdout",
     "output_type": "stream",
     "text": [
      "add call...\n"
     ]
    },
    {
     "data": {
      "text/plain": [
       "7"
      ]
     },
     "execution_count": 42,
     "metadata": {},
     "output_type": "execute_result"
    }
   ],
   "source": [
    "add(3, 4)"
   ]
  },
  {
   "cell_type": "code",
   "execution_count": 47,
   "id": "2b426825-b7e1-4d76-adfc-96d604da5a98",
   "metadata": {},
   "outputs": [],
   "source": [
    "def fib(n):\n",
    "    print(f\"fib({n}) called...\")\n",
    "    if n <= 1:\n",
    "        return n\n",
    "    return fib(n-1) + fib(n-2)"
   ]
  },
  {
   "cell_type": "code",
   "execution_count": null,
   "id": "d87f4905-77ff-4725-af51-2ab7989db6ed",
   "metadata": {},
   "outputs": [],
   "source": [
    "def cache(fn):\n",
    "    cache_dict = {}\n",
    "    def inner(*args):\n",
    "        if cache_dict.get(args):\n",
    "            result = cache_dict.get(args)\n",
    "        else:\n",
    "            result = fn(*args)\n",
    "            cache_dict[args] = result\n",
    "        return result\n",
    "    return inner\n",
    "\n",
    "@cache\n",
    "def fib_cache(n):\n",
    "    # print(f\"fib({n}) called...\")\n",
    "    if n <= 1:\n",
    "        return n\n",
    "    return fib(n-1) + fib(n-2)\n",
    "start = perf_counter()\n",
    "fib_cache(2000)\n",
    "end = perf_counter()\n",
    "print(f\"elasped takes {end - start}\")"
   ]
  },
  {
   "cell_type": "code",
   "execution_count": 2,
   "id": "e5fc85cf-3dc6-4615-beb7-a0049640b772",
   "metadata": {},
   "outputs": [],
   "source": [
    "from time import perf_counter"
   ]
  },
  {
   "cell_type": "code",
   "execution_count": 11,
   "id": "7e78e66a-2c54-45de-8786-5c83a9c223b6",
   "metadata": {},
   "outputs": [
    {
     "name": "stdout",
     "output_type": "stream",
     "text": [
      "elasped takes 17.282465070999933 with result: 102334155\n"
     ]
    }
   ],
   "source": [
    "def fib(n):\n",
    "    if n <= 1:\n",
    "        return n\n",
    "    return fib(n-1) + fib(n-2)\n",
    "start = perf_counter()\n",
    "result = fib(40)\n",
    "end = perf_counter()\n",
    "print(f\"elasped takes {end - start} with result: {result}\")"
   ]
  },
  {
   "cell_type": "code",
   "execution_count": 1,
   "id": "4375ff8c-5c7b-403e-b02d-a2475e3426be",
   "metadata": {},
   "outputs": [
    {
     "data": {
      "text/plain": [
       "<_io.TextIOWrapper name='requirements.txt' mode='r' encoding='UTF-8'>"
      ]
     },
     "execution_count": 1,
     "metadata": {},
     "output_type": "execute_result"
    }
   ],
   "source": [
    "file_name='requirements.txt'\n",
    "file = open(file_name, 'r')\n",
    "file"
   ]
  },
  {
   "cell_type": "code",
   "execution_count": 2,
   "id": "5fdfdb73-3cb0-4f30-86ce-a3eaa97eb005",
   "metadata": {},
   "outputs": [
    {
     "data": {
      "text/plain": [
       "'requirements.txt'"
      ]
     },
     "execution_count": 2,
     "metadata": {},
     "output_type": "execute_result"
    }
   ],
   "source": [
    "file.name"
   ]
  },
  {
   "cell_type": "code",
   "execution_count": 3,
   "id": "23990400-3d1b-4b44-8cd6-826dea507e94",
   "metadata": {},
   "outputs": [
    {
     "data": {
      "text/plain": [
       "False"
      ]
     },
     "execution_count": 3,
     "metadata": {},
     "output_type": "execute_result"
    }
   ],
   "source": [
    "file.writable()"
   ]
  },
  {
   "cell_type": "code",
   "execution_count": 4,
   "id": "e6e01b4c-bb6a-4150-9918-7c62b86eccf0",
   "metadata": {},
   "outputs": [
    {
     "data": {
      "text/plain": [
       "False"
      ]
     },
     "execution_count": 4,
     "metadata": {},
     "output_type": "execute_result"
    }
   ],
   "source": [
    "file.closed"
   ]
  },
  {
   "cell_type": "code",
   "execution_count": 5,
   "id": "232ae47f-ebb7-4343-a2a5-a9c03be8ffec",
   "metadata": {},
   "outputs": [],
   "source": [
    "file.close()"
   ]
  },
  {
   "cell_type": "code",
   "execution_count": 6,
   "id": "17e257a0-0153-4ee9-b323-23c195b56ec0",
   "metadata": {},
   "outputs": [
    {
     "data": {
      "text/plain": [
       "<_io.TextIOWrapper name='requirements.txt' mode='r' encoding='UTF-8'>"
      ]
     },
     "execution_count": 6,
     "metadata": {},
     "output_type": "execute_result"
    }
   ],
   "source": [
    "file"
   ]
  },
  {
   "cell_type": "code",
   "execution_count": 7,
   "id": "aa6b7688-8069-4cf8-8905-575f357d44d4",
   "metadata": {},
   "outputs": [
    {
     "data": {
      "text/plain": [
       "True"
      ]
     },
     "execution_count": 7,
     "metadata": {},
     "output_type": "execute_result"
    }
   ],
   "source": [
    "file.closed"
   ]
  },
  {
   "cell_type": "code",
   "execution_count": 13,
   "id": "bbfa37af-0d09-41fe-be30-9772fe751a54",
   "metadata": {},
   "outputs": [],
   "source": [
    "file = open(file_name, 'r')\n",
    "data = file.readlines()\n",
    "file.close()"
   ]
  },
  {
   "cell_type": "code",
   "execution_count": 14,
   "id": "73c2ee38-eb65-4c21-b124-6fb3acf68481",
   "metadata": {},
   "outputs": [
    {
     "data": {
      "text/plain": [
       "list"
      ]
     },
     "execution_count": 14,
     "metadata": {},
     "output_type": "execute_result"
    }
   ],
   "source": [
    "type(data)"
   ]
  },
  {
   "cell_type": "code",
   "execution_count": 15,
   "id": "970e1f78-4467-4ca6-860f-c0fdb273e1d7",
   "metadata": {},
   "outputs": [
    {
     "data": {
      "text/plain": [
       "['notebook\\n',\n",
       " 'pytz\\n',\n",
       " 'python-dateutil\\n',\n",
       " 'requests\\n',\n",
       " 'openpyxl\\n',\n",
       " 'xlrd\\n']"
      ]
     },
     "execution_count": 15,
     "metadata": {},
     "output_type": "execute_result"
    }
   ],
   "source": [
    "data"
   ]
  },
  {
   "cell_type": "code",
   "execution_count": 12,
   "id": "3cd448d8-4db4-4bae-b6fd-d1a7275ca2a7",
   "metadata": {},
   "outputs": [
    {
     "data": {
      "text/plain": [
       "['notebook\\n',\n",
       " 'pytz\\n',\n",
       " 'python-dateutil\\n',\n",
       " 'requests\\n',\n",
       " 'openpyxl\\n',\n",
       " 'xlrd\\n']"
      ]
     },
     "execution_count": 12,
     "metadata": {},
     "output_type": "execute_result"
    }
   ],
   "source": [
    "data"
   ]
  },
  {
   "cell_type": "code",
   "execution_count": 18,
   "id": "627d2148-63e7-47e4-ae18-50a17d07cd5b",
   "metadata": {},
   "outputs": [
    {
     "name": "stdout",
     "output_type": "stream",
     "text": [
      "notebook\n",
      "pytz\n",
      "python-dateutil\n",
      "requests\n",
      "openpyxl\n",
      "xlrd\n"
     ]
    }
   ],
   "source": [
    "file = open(file_name, 'r')\n",
    "for line in file:\n",
    "    print(line, end='')\n",
    "for line in file:\n",
    "    print(line, end='')"
   ]
  },
  {
   "cell_type": "code",
   "execution_count": 19,
   "id": "13430c08-6caf-44e6-8b53-97009bd17f53",
   "metadata": {},
   "outputs": [],
   "source": [
    "file.close()"
   ]
  },
  {
   "cell_type": "code",
   "execution_count": 24,
   "id": "81934786-4a96-49a0-b411-5da78e149a52",
   "metadata": {},
   "outputs": [
    {
     "data": {
      "text/plain": [
       "'xlrd\\n'"
      ]
     },
     "execution_count": 24,
     "metadata": {},
     "output_type": "execute_result"
    }
   ],
   "source": [
    "file = open(file_name, 'r')\n",
    "next(file)\n",
    "next(file)\n",
    "next(file)\n",
    "next(file)\n",
    "next(file)\n",
    "next(file)"
   ]
  },
  {
   "cell_type": "code",
   "execution_count": 25,
   "id": "28f27985-f383-4e78-9bcb-7d932b7b1c24",
   "metadata": {},
   "outputs": [
    {
     "name": "stdout",
     "output_type": "stream",
     "text": [
      "False\n",
      "True\n"
     ]
    }
   ],
   "source": [
    "with open(file_name, 'r') as file_reader:\n",
    "    print(file_reader.closed)\n",
    "print(file_reader.closed)"
   ]
  },
  {
   "cell_type": "code",
   "execution_count": 26,
   "id": "5dfa87ca-7475-482a-8ca0-8a2d2618bfdb",
   "metadata": {},
   "outputs": [],
   "source": [
    "with open('text.txt', 'w') as file_writer:\n",
    "    file_writer.write('12345')"
   ]
  },
  {
   "cell_type": "code",
   "execution_count": 27,
   "id": "fd9470fa-851c-4c5c-9c7a-2673691495e1",
   "metadata": {},
   "outputs": [
    {
     "data": {
      "text/plain": [
       "2.0"
      ]
     },
     "execution_count": 27,
     "metadata": {},
     "output_type": "execute_result"
    }
   ],
   "source": [
    "import math\n",
    "math.sqrt(4)"
   ]
  },
  {
   "cell_type": "code",
   "execution_count": 28,
   "id": "830271a1-5880-4342-8903-a80b2f6b0aaf",
   "metadata": {},
   "outputs": [],
   "source": [
    "from math import sqrt"
   ]
  },
  {
   "cell_type": "code",
   "execution_count": 29,
   "id": "eadb72eb-57e8-415a-ace2-1a0c7ec38012",
   "metadata": {},
   "outputs": [
    {
     "data": {
      "text/plain": [
       "3.0"
      ]
     },
     "execution_count": 29,
     "metadata": {},
     "output_type": "execute_result"
    }
   ],
   "source": [
    "sqrt(9)"
   ]
  },
  {
   "cell_type": "code",
   "execution_count": 31,
   "id": "12399f93-333a-4205-9170-ffa1b37ce673",
   "metadata": {},
   "outputs": [
    {
     "data": {
      "text/plain": [
       "2.0"
      ]
     },
     "execution_count": 31,
     "metadata": {},
     "output_type": "execute_result"
    }
   ],
   "source": [
    "import math as m\n",
    "m.sqrt(4)"
   ]
  },
  {
   "cell_type": "code",
   "execution_count": 32,
   "id": "2d7677a1-1d9a-442d-81a4-ed47d6e856b1",
   "metadata": {},
   "outputs": [],
   "source": [
    "from math import sqrt as s"
   ]
  },
  {
   "cell_type": "code",
   "execution_count": 33,
   "id": "53931f7f-c6c7-42d4-b9a4-752a18e505f9",
   "metadata": {},
   "outputs": [
    {
     "data": {
      "text/plain": [
       "3.0"
      ]
     },
     "execution_count": 33,
     "metadata": {},
     "output_type": "execute_result"
    }
   ],
   "source": [
    "s(9)"
   ]
  },
  {
   "cell_type": "code",
   "execution_count": 35,
   "id": "8334f362-c8b4-4227-bcc7-cf53f1a94749",
   "metadata": {},
   "outputs": [
    {
     "name": "stdout",
     "output_type": "stream",
     "text": [
      "Help on built-in function sorted in module builtins:\n",
      "\n",
      "sorted(iterable, /, *, key=None, reverse=False)\n",
      "    Return a new list containing all items from the iterable in ascending order.\n",
      "    \n",
      "    A custom key function can be supplied to customize the sort order, and the\n",
      "    reverse flag can be set to request the result in descending order.\n",
      "\n"
     ]
    }
   ],
   "source": [
    "help(sorted)"
   ]
  },
  {
   "cell_type": "code",
   "execution_count": 38,
   "id": "65fd703d-b7ad-4b3c-87c0-f3eda6b01f2e",
   "metadata": {},
   "outputs": [
    {
     "data": {
      "text/plain": [
       "6"
      ]
     },
     "execution_count": 38,
     "metadata": {},
     "output_type": "execute_result"
    }
   ],
   "source": [
    "import random as rnd\n",
    "rnd.randint(1, 10)"
   ]
  },
  {
   "cell_type": "code",
   "execution_count": null,
   "id": "d76c27a5-049d-4a23-829e-360db8059953",
   "metadata": {},
   "outputs": [],
   "source": []
  }
 ],
 "metadata": {
  "kernelspec": {
   "display_name": "Python 3 (ipykernel)",
   "language": "python",
   "name": "python3"
  },
  "language_info": {
   "codemirror_mode": {
    "name": "ipython",
    "version": 3
   },
   "file_extension": ".py",
   "mimetype": "text/x-python",
   "name": "python",
   "nbconvert_exporter": "python",
   "pygments_lexer": "ipython3",
   "version": "3.11.9"
  }
 },
 "nbformat": 4,
 "nbformat_minor": 5
}
